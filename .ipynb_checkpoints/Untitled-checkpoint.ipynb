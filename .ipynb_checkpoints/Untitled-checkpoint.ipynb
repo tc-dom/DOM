{
 "cells": [
  {
   "cell_type": "code",
   "execution_count": 1,
   "metadata": {},
   "outputs": [
    {
     "name": "stdout",
     "output_type": "stream",
     "text": [
      "x value : 100\n",
      "y value : 3.14\n",
      "num2 value : 4000\n"
     ]
    }
   ],
   "source": [
    "x = 100\n",
    "y = 3.14\n",
    "num1 = num2 = num3 = 4000\n",
    "\n",
    "print('x value :', x)\n",
    "print('y value :', y)\n",
    "print('num2 value :', num2)"
   ]
  },
  {
   "cell_type": "code",
   "execution_count": 5,
   "metadata": {},
   "outputs": [
    {
     "name": "stdout",
     "output_type": "stream",
     "text": [
      "Result1 = 103.140000\n",
      "Result2 = 96.860000\n",
      "Result3 = 314.000000\n",
      "Result4 = 31.85\n"
     ]
    }
   ],
   "source": [
    "a, b = 100, 200\n",
    "result1 =x+y\n",
    "result2 =x-y\n",
    "result3 =x*y\n",
    "result4 =x/y\n",
    "\n",
    "print('Result1 = %f' %result1)\n",
    "print('Result2 = %f' %result2)\n",
    "print('Result3 = %f' %result3)\n",
    "print('Result4 = %.2f' %result4)\n"
   ]
  },
  {
   "cell_type": "code",
   "execution_count": 16,
   "metadata": {},
   "outputs": [
    {
     "name": "stdout",
     "output_type": "stream",
     "text": [
      "1\n",
      "8\n",
      "17\n",
      "0\n"
     ]
    }
   ],
   "source": [
    "b = 890\n",
    "if(b>=1000):\n",
    "    p1000 = b//1000\n",
    "    print(p1000)\n",
    "if(b>=500):\n",
    "    p500 = b//500\n",
    "    print(p500)\n",
    "if(b>=100):\n",
    "    p100 = b//100\n",
    "    print(p100)\n",
    "if(b>=50):\n",
    "    p50 = b//50\n",
    "    print(p50)\n",
    "if(b>=20):\n",
    "    p20 = b//20\n",
    "    c10 = ((((b%500)%100)%50)%20)//10\n",
    "    print(c10)"
   ]
  },
  {
   "cell_type": "code",
   "execution_count": null,
   "metadata": {},
   "outputs": [],
   "source": []
  }
 ],
 "metadata": {
  "kernelspec": {
   "display_name": "Python 3",
   "language": "python",
   "name": "python3"
  },
  "language_info": {
   "codemirror_mode": {
    "name": "ipython",
    "version": 3
   },
   "file_extension": ".py",
   "mimetype": "text/x-python",
   "name": "python",
   "nbconvert_exporter": "python",
   "pygments_lexer": "ipython3",
   "version": "3.8.3"
  }
 },
 "nbformat": 4,
 "nbformat_minor": 4
}
